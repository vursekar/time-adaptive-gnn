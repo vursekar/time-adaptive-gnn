{
 "cells": [
  {
   "cell_type": "code",
   "execution_count": 1,
   "id": "95dc4aed",
   "metadata": {},
   "outputs": [],
   "source": [
    "# This cell should be exactly the same between all models\n",
    "\n",
    "import pickle as pk\n",
    "\n",
    "import numpy as np\n",
    "import tensorflow as tf\n",
    "import matplotlib.pyplot as plt\n",
    "\n",
    "from common import *\n",
    "from util import *\n",
    "\n",
    "# Load everything\n",
    "scaled_data = {}\n",
    "with np.load(PREPROCESSED_DATASET_FILEPATH) as npz_loader:\n",
    "    for key in npz_loader:\n",
    "        scaled_data[key] = npz_loader[key]\n",
    "scaler = pk.load(open(PREPROCESSING_SCALER_FILEPATH, \"rb\"))\n",
    "\n",
    "# Input and output dims\n",
    "input_shape = tuple(list(scaled_data['x_train'].shape)[1:])\n",
    "output_shape = tuple(list(scaled_data['y_train'].shape)[1:])\n",
    "input_dims = np.product(input_shape)\n",
    "output_dims = np.product(output_shape)"
   ]
  },
  {
   "cell_type": "code",
   "execution_count": 2,
   "id": "096ed454",
   "metadata": {},
   "outputs": [
    {
     "name": "stdout",
     "output_type": "stream",
     "text": [
      "tensorflow: 2.8.0\n",
      "numpy: 1.21.5\n"
     ]
    }
   ],
   "source": [
    "print(\"tensorflow: {}\".format(tf.__version__))\n",
    "print(\"numpy: {}\".format(np.__version__))"
   ]
  },
  {
   "cell_type": "code",
   "execution_count": 3,
   "id": "6e45cc87",
   "metadata": {},
   "outputs": [],
   "source": [
    "# CONSTANTS:\n",
    "MODEL_NAME = \"Feedforward\""
   ]
  },
  {
   "cell_type": "code",
   "execution_count": 4,
   "id": "99d2c847",
   "metadata": {},
   "outputs": [
    {
     "name": "stdout",
     "output_type": "stream",
     "text": [
      "Metal device set to: Apple M1 Max\n"
     ]
    },
    {
     "name": "stderr",
     "output_type": "stream",
     "text": [
      "2022-03-17 14:34:55.428235: I tensorflow/core/common_runtime/pluggable_device/pluggable_device_factory.cc:305] Could not identify NUMA node of platform GPU ID 0, defaulting to 0. Your kernel may not have been built with NUMA support.\n",
      "2022-03-17 14:34:55.428387: I tensorflow/core/common_runtime/pluggable_device/pluggable_device_factory.cc:271] Created TensorFlow device (/job:localhost/replica:0/task:0/device:GPU:0 with 0 MB memory) -> physical PluggableDevice (device: 0, name: METAL, pci bus id: <undefined>)\n"
     ]
    }
   ],
   "source": [
    "# Construct TF model here\n",
    "\n",
    "# Simple Feedforward Neural Network\n",
    "model = tf.keras.Sequential(\n",
    "    [\n",
    "        tf.keras.layers.Flatten(),\n",
    "        tf.keras.layers.Dense(units=256,activation='relu',),\n",
    "        #kernel_regularizer=tf.keras.regularizers.L2(0.01)),\n",
    "        #tf.keras.layers.Dropout(0.5),\n",
    "        tf.keras.layers.Dense(units=256,activation='relu',),\n",
    "        #kernel_regularizer=tf.keras.regularizers.L2(0.01)),\n",
    "        #tf.keras.layers.Dropout(0.5),\n",
    "        tf.keras.layers.Dense(units=output_dims,activation='linear'),\n",
    "        tf.keras.layers.Reshape(output_shape)\n",
    "    ]\n",
    ")"
   ]
  },
  {
   "cell_type": "code",
   "execution_count": 5,
   "id": "c038497b",
   "metadata": {},
   "outputs": [],
   "source": [
    "# hyperparameters and callbacks\n",
    "\n",
    "BATCH_SIZE = 64\n",
    "MAX_EPOCHS = 100\n",
    "\n",
    "def scheduler(epoch, lr):\n",
    "    if epoch<50:\n",
    "        return lr\n",
    "    elif epoch%20==0:\n",
    "        return lr/10\n",
    "    else:\n",
    "        return lr\n",
    "    \n",
    "callback_lr = tf.keras.callbacks.LearningRateScheduler(scheduler)\n",
    "callback_es = tf.keras.callbacks.EarlyStopping(monitor='val_loss', patience=10)\n",
    "\n",
    "model.compile(loss='mean_absolute_error', optimizer=tf.keras.optimizers.Adam(1e-3))"
   ]
  },
  {
   "cell_type": "code",
   "execution_count": 6,
   "id": "a3b2307e",
   "metadata": {},
   "outputs": [
    {
     "name": "stdout",
     "output_type": "stream",
     "text": [
      "Epoch 1/100\n"
     ]
    },
    {
     "name": "stderr",
     "output_type": "stream",
     "text": [
      "2022-03-17 14:35:06.733701: W tensorflow/core/platform/profile_utils/cpu_utils.cc:128] Failed to get CPU frequency: 0 Hz\n",
      "2022-03-17 14:35:06.909964: I tensorflow/core/grappler/optimizers/custom_graph_optimizer_registry.cc:113] Plugin optimizer for device_type GPU is enabled.\n"
     ]
    },
    {
     "name": "stdout",
     "output_type": "stream",
     "text": [
      "567/570 [============================>.] - ETA: 0s - loss: 0.2274"
     ]
    },
    {
     "name": "stderr",
     "output_type": "stream",
     "text": [
      "2022-03-17 14:35:12.379966: I tensorflow/core/grappler/optimizers/custom_graph_optimizer_registry.cc:113] Plugin optimizer for device_type GPU is enabled.\n"
     ]
    },
    {
     "name": "stdout",
     "output_type": "stream",
     "text": [
      "570/570 [==============================] - 6s 10ms/step - loss: 0.2272 - val_loss: 0.2248 - lr: 0.0010\n",
      "Epoch 2/100\n",
      "570/570 [==============================] - 6s 10ms/step - loss: 0.1909 - val_loss: 0.2117 - lr: 0.0010\n",
      "Epoch 3/100\n",
      "570/570 [==============================] - 5s 10ms/step - loss: 0.1818 - val_loss: 0.2121 - lr: 0.0010\n",
      "Epoch 4/100\n",
      "570/570 [==============================] - 6s 10ms/step - loss: 0.1790 - val_loss: 0.2025 - lr: 0.0010\n",
      "Epoch 5/100\n",
      "570/570 [==============================] - 6s 10ms/step - loss: 0.1753 - val_loss: 0.2062 - lr: 0.0010\n",
      "Epoch 6/100\n",
      "570/570 [==============================] - 6s 10ms/step - loss: 0.1733 - val_loss: 0.2055 - lr: 0.0010\n",
      "Epoch 7/100\n",
      "570/570 [==============================] - 6s 10ms/step - loss: 0.1710 - val_loss: 0.2106 - lr: 0.0010\n",
      "Epoch 8/100\n",
      "570/570 [==============================] - 6s 10ms/step - loss: 0.1706 - val_loss: 0.2043 - lr: 0.0010\n",
      "Epoch 9/100\n",
      "570/570 [==============================] - 6s 10ms/step - loss: 0.1704 - val_loss: 0.2041 - lr: 0.0010\n",
      "Epoch 10/100\n",
      "570/570 [==============================] - 6s 10ms/step - loss: 0.1688 - val_loss: 0.2064 - lr: 0.0010\n",
      "Epoch 11/100\n",
      "570/570 [==============================] - 6s 10ms/step - loss: 0.1696 - val_loss: 0.2083 - lr: 0.0010\n",
      "Epoch 12/100\n",
      "570/570 [==============================] - 6s 10ms/step - loss: 0.1670 - val_loss: 0.2116 - lr: 0.0010\n",
      "Epoch 13/100\n",
      "570/570 [==============================] - 6s 10ms/step - loss: 0.1651 - val_loss: 0.2009 - lr: 0.0010\n",
      "Epoch 14/100\n",
      "570/570 [==============================] - 6s 10ms/step - loss: 0.1594 - val_loss: 0.1957 - lr: 0.0010\n",
      "Epoch 15/100\n",
      "570/570 [==============================] - 5s 10ms/step - loss: 0.1547 - val_loss: 0.1961 - lr: 0.0010\n",
      "Epoch 16/100\n",
      "570/570 [==============================] - 6s 10ms/step - loss: 0.1519 - val_loss: 0.1903 - lr: 0.0010\n",
      "Epoch 17/100\n",
      "570/570 [==============================] - 6s 10ms/step - loss: 0.1524 - val_loss: 0.2111 - lr: 0.0010\n",
      "Epoch 18/100\n",
      "570/570 [==============================] - 6s 10ms/step - loss: 0.1677 - val_loss: 0.2037 - lr: 0.0010\n",
      "Epoch 19/100\n",
      "570/570 [==============================] - 6s 10ms/step - loss: 0.1628 - val_loss: 0.2000 - lr: 0.0010\n",
      "Epoch 20/100\n",
      "570/570 [==============================] - 6s 10ms/step - loss: 0.1485 - val_loss: 0.1921 - lr: 0.0010\n",
      "Epoch 21/100\n",
      "570/570 [==============================] - 6s 10ms/step - loss: 0.1465 - val_loss: 0.1989 - lr: 0.0010\n",
      "Epoch 22/100\n",
      "570/570 [==============================] - 6s 10ms/step - loss: 0.1456 - val_loss: 0.1940 - lr: 0.0010\n",
      "Epoch 23/100\n",
      "570/570 [==============================] - 6s 10ms/step - loss: 0.1523 - val_loss: 0.1918 - lr: 0.0010\n",
      "Epoch 24/100\n",
      "570/570 [==============================] - 6s 10ms/step - loss: 0.1495 - val_loss: 0.1891 - lr: 0.0010\n",
      "Epoch 25/100\n",
      "570/570 [==============================] - 6s 10ms/step - loss: 0.1485 - val_loss: 0.1905 - lr: 0.0010\n",
      "Epoch 26/100\n",
      "570/570 [==============================] - 6s 10ms/step - loss: 0.1463 - val_loss: 0.1919 - lr: 0.0010\n",
      "Epoch 27/100\n",
      "570/570 [==============================] - 6s 10ms/step - loss: 0.1452 - val_loss: 0.1929 - lr: 0.0010\n",
      "Epoch 28/100\n",
      "570/570 [==============================] - 6s 10ms/step - loss: 0.1449 - val_loss: 0.1845 - lr: 0.0010\n",
      "Epoch 29/100\n",
      "570/570 [==============================] - 6s 10ms/step - loss: 0.1442 - val_loss: 0.1955 - lr: 0.0010\n",
      "Epoch 30/100\n",
      "570/570 [==============================] - 6s 10ms/step - loss: 0.1435 - val_loss: 0.1911 - lr: 0.0010\n",
      "Epoch 31/100\n",
      "570/570 [==============================] - 6s 10ms/step - loss: 0.1498 - val_loss: 0.1962 - lr: 0.0010\n",
      "Epoch 32/100\n",
      "570/570 [==============================] - 6s 10ms/step - loss: 0.1422 - val_loss: 0.1891 - lr: 0.0010\n",
      "Epoch 33/100\n",
      "570/570 [==============================] - 6s 10ms/step - loss: 0.1417 - val_loss: 0.2023 - lr: 0.0010\n",
      "Epoch 34/100\n",
      "570/570 [==============================] - 6s 10ms/step - loss: 0.1419 - val_loss: 0.1920 - lr: 0.0010\n",
      "Epoch 35/100\n",
      "570/570 [==============================] - 6s 10ms/step - loss: 0.1413 - val_loss: 0.1939 - lr: 0.0010\n",
      "Epoch 36/100\n",
      "570/570 [==============================] - 6s 10ms/step - loss: 0.1411 - val_loss: 0.1992 - lr: 0.0010\n",
      "Epoch 37/100\n",
      "570/570 [==============================] - 6s 10ms/step - loss: 0.1405 - val_loss: 0.1924 - lr: 0.0010\n",
      "Epoch 38/100\n",
      "570/570 [==============================] - 6s 10ms/step - loss: 0.1398 - val_loss: 0.1912 - lr: 0.0010\n"
     ]
    }
   ],
   "source": [
    "# Compile and fit model here\n",
    "history = model.fit(\n",
    "    x=scaled_data['x_train'],\n",
    "    y=scaled_data['y_train'],\n",
    "    batch_size=BATCH_SIZE,\n",
    "    epochs=MAX_EPOCHS,\n",
    "    validation_data=(scaled_data['x_val'],\n",
    "    scaled_data['y_val']),\n",
    "    callbacks=[callback_lr,callback_es]\n",
    ")"
   ]
  },
  {
   "cell_type": "code",
   "execution_count": 7,
   "id": "2e2aa55b",
   "metadata": {},
   "outputs": [
    {
     "name": "stderr",
     "output_type": "stream",
     "text": [
      "2022-03-17 14:38:51.168931: I tensorflow/core/grappler/optimizers/custom_graph_optimizer_registry.cc:113] Plugin optimizer for device_type GPU is enabled.\n"
     ]
    }
   ],
   "source": [
    "# Compute unnormalized prediction loss\n",
    "\n",
    "preds = {}\n",
    "\n",
    "for split in ['test','val']:\n",
    "    preds[split] = model.predict(scaled_data['x_'+split])\n",
    "    preds[split] = scaler.inverse_transform(preds[split])"
   ]
  },
  {
   "cell_type": "code",
   "execution_count": 8,
   "id": "b32541d6",
   "metadata": {},
   "outputs": [],
   "source": [
    "# Save model\n",
    "model.save(model_name_to_model_filepath(MODEL_NAME))\n",
    "\n",
    "# Save run info\n",
    "run_info = {}\n",
    "run_info[\"history\"] = history.history\n",
    "run_info[\"predictions\"] = preds # idk whether this part makes sense for RNNs or not\n",
    "pk.dump(run_info, open(model_name_to_run_info_filepath(MODEL_NAME), \"wb\"))"
   ]
  },
  {
   "cell_type": "code",
   "execution_count": null,
   "id": "c2fb5467",
   "metadata": {},
   "outputs": [],
   "source": []
  }
 ],
 "metadata": {
  "kernelspec": {
   "display_name": "Python 3 (ipykernel)",
   "language": "python",
   "name": "python3"
  },
  "language_info": {
   "codemirror_mode": {
    "name": "ipython",
    "version": 3
   },
   "file_extension": ".py",
   "mimetype": "text/x-python",
   "name": "python",
   "nbconvert_exporter": "python",
   "pygments_lexer": "ipython3",
   "version": "3.9.10"
  }
 },
 "nbformat": 4,
 "nbformat_minor": 5
}
