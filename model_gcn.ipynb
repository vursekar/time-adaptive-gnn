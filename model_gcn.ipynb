{
 "cells": [
  {
   "cell_type": "code",
   "execution_count": 1,
   "id": "95dc4aed",
   "metadata": {},
   "outputs": [],
   "source": [
    "# This cell should be exactly the same between all models\n",
    "\n",
    "import pickle as pk\n",
    "\n",
    "import numpy as np\n",
    "import tensorflow as tf\n",
    "import matplotlib.pyplot as plt\n",
    "import pandas as pd\n",
    "\n",
    "from common import *\n",
    "from util import *\n",
    "\n",
    "# Load everything\n",
    "scaled_data = {}\n",
    "with np.load(PREPROCESSED_DATASET_FILEPATH) as npz_loader:\n",
    "    for key in npz_loader:\n",
    "        scaled_data[key] = npz_loader[key]\n",
    "scaler = pk.load(open(PREPROCESSING_SCALER_FILEPATH, \"rb\"))\n",
    "\n",
    "# Input and output dims\n",
    "input_shape = tuple(list(scaled_data['x_train'].shape)[1:])\n",
    "output_shape = tuple(list(scaled_data['y_train'].shape)[1:])\n",
    "input_dims = np.product(input_shape)\n",
    "output_dims = np.product(output_shape)"
   ]
  },
  {
   "cell_type": "code",
   "execution_count": 2,
   "id": "bd750682",
   "metadata": {},
   "outputs": [
    {
     "data": {
      "text/plain": [
       "(12, 207, 2)"
      ]
     },
     "execution_count": 2,
     "metadata": {},
     "output_type": "execute_result"
    }
   ],
   "source": [
    "output_shape"
   ]
  },
  {
   "cell_type": "code",
   "execution_count": 3,
   "id": "096ed454",
   "metadata": {},
   "outputs": [
    {
     "name": "stdout",
     "output_type": "stream",
     "text": [
      "tensorflow: 2.8.0\n",
      "numpy: 1.21.5\n"
     ]
    }
   ],
   "source": [
    "print(\"tensorflow: {}\".format(tf.__version__))\n",
    "print(\"numpy: {}\".format(np.__version__))"
   ]
  },
  {
   "cell_type": "code",
   "execution_count": 4,
   "id": "6e45cc87",
   "metadata": {},
   "outputs": [],
   "source": [
    "# CONSTANTS:\n",
    "MODEL_NAME = \"SimpleGCN\""
   ]
  },
  {
   "cell_type": "code",
   "execution_count": 5,
   "id": "99d2c847",
   "metadata": {},
   "outputs": [],
   "source": [
    "sensor_locations_df = pd.read_csv(SENSOR_LOCATIONS_FILE,index_col=0)\n",
    "sensor_distances_df = pd.read_csv('/Users/varunursekar/Projects/advDeepLearning/final_project/DCRNN-master/data/sensor_graph/distances_la_2012.csv')\n",
    "# sensor_locations_df = pd.read_csv(SENSOR_LOCATIONS_FILE,names=['sensor_id','latitude','longitude'])\n",
    "# sensor_distances_df = pd.read_csv('/Users/varunursekar/Projects/advDeepLearning/final_project/DCRNN-master/data/sensor_graph/distances_bay_2017.csv',\n",
    "#                                   names=['from','to','cost'])\n",
    "\n",
    "\n",
    "sensor_to_id = dict(zip(sensor_locations_df['sensor_id'].values,np.arange(len(sensor_locations_df))))\n",
    "distances = np.inf*np.ones((len(sensor_locations_df),len(sensor_locations_df)))\n",
    "\n",
    "\n",
    "for index, row in sensor_distances_df.iterrows():\n",
    "    \n",
    "    if row['from'] in sensor_to_id and row['to'] in sensor_to_id:\n",
    "        distances[sensor_to_id[row['from']],sensor_to_id[row['to']]] = row['cost']    "
   ]
  },
  {
   "cell_type": "code",
   "execution_count": 8,
   "id": "afc8ec38",
   "metadata": {},
   "outputs": [],
   "source": [
    "def adjacency_from_distances(distances,kappa=0.5,normalize=False,symmetrize=False):\n",
    "    \n",
    "    finite_distances = distances[np.isfinite(distances)].flatten()    \n",
    "    var = np.var(finite_distances)    \n",
    "    adj = np.exp(-distances**2/var)\n",
    "    \n",
    "    adj[adj<kappa] = 0\n",
    "    \n",
    "    if symmetrize:\n",
    "        adj = 0.5*(adj + adj.T)\n",
    "    \n",
    "    if normalize:\n",
    "        adj = adj/np.sum(adj,axis=1)[:,np.newaxis]\n",
    "    \n",
    "    return adj"
   ]
  },
  {
   "cell_type": "code",
   "execution_count": 9,
   "id": "676f9bb3",
   "metadata": {},
   "outputs": [
    {
     "name": "stdout",
     "output_type": "stream",
     "text": [
      "Number of edges =  572\n",
      "Min number of neighbours= 1\n",
      "Max number of neighbours= 7\n",
      "Metal device set to: Apple M1 Max\n"
     ]
    },
    {
     "name": "stderr",
     "output_type": "stream",
     "text": [
      "2022-04-21 12:12:59.102112: I tensorflow/core/common_runtime/pluggable_device/pluggable_device_factory.cc:305] Could not identify NUMA node of platform GPU ID 0, defaulting to 0. Your kernel may not have been built with NUMA support.\n",
      "2022-04-21 12:12:59.102278: I tensorflow/core/common_runtime/pluggable_device/pluggable_device_factory.cc:271] Created TensorFlow device (/job:localhost/replica:0/task:0/device:GPU:0 with 0 MB memory) -> physical PluggableDevice (device: 0, name: METAL, pci bus id: <undefined>)\n"
     ]
    },
    {
     "data": {
      "image/png": "[encoded data removed]",
      "text/plain": [
       "<Figure size 432x288 with 1 Axes>"
      ]
     },
     "metadata": {
      "needs_background": "light"
     },
     "output_type": "display_data"
    },
    {
     "data": {
      "image/png": "[encoded data removed]",
      "text/plain": [
       "<Figure size 432x288 with 1 Axes>"
      ]
     },
     "metadata": {
      "needs_background": "light"
     },
     "output_type": "display_data"
    }
   ],
   "source": [
    "class SimpleGC(tf.keras.layers.Layer):\n",
    "    \n",
    "    def __init__(self,per_node_in_feats,per_node_out_feats,A):\n",
    "        super().__init__()\n",
    "        \n",
    "        self.per_node_in_feats = per_node_in_feats\n",
    "        self.per_node_out_feats = per_node_out_feats\n",
    "        \n",
    "        self.A = tf.Variable(A,trainable=False, dtype=\"float32\")\n",
    "        self.W = tf.Variable(initial_value=tf.keras.initializers.glorot_uniform()(\n",
    "                                           shape=(per_node_in_feats, per_node_out_feats), dtype=\"float32\"),\n",
    "                             trainable=True)\n",
    "        self.activation = tf.keras.layers.ReLU()\n",
    "    \n",
    "    def call(self,x):\n",
    "        \n",
    "        \"\"\"\n",
    "        x : (nodes,batch,time,per_node_in_dims)\n",
    "        output: (nodes,batch,time,per_node_out_dims)\n",
    "        \"\"\"\n",
    "        \n",
    "        out = tf.matmul(x,self.W)\n",
    "        out = tf.matmul(self.A,out)\n",
    "        out = self.activation(out)\n",
    "        \n",
    "        return out\n",
    "        \n",
    "    \n",
    "class LSTMGNN(tf.keras.Model):\n",
    "    \n",
    "    def __init__(self,per_node_in_feats,per_node_out_feats,A,output_shape):\n",
    "        super().__init__()\n",
    "        \n",
    "        self.gc1 = SimpleGC(per_node_in_feats,per_node_out_feats,A)\n",
    "        self.reshape1 = tf.keras.layers.Reshape((output_shape[0],-1))\n",
    "        self.lstm = tf.keras.layers.LSTM(256, activation=\"tanh\",\n",
    "                                         return_sequences=True)\n",
    "        self.lstm2 = tf.keras.layers.LSTM(256, activation=\"tanh\",\n",
    "                                         return_sequences=False)\n",
    "        self.final_dims = output_shape[-1]*output_shape[-2]*output_shape[-3]\n",
    "        self.final = tf.keras.layers.Dense(self.final_dims,activation='linear')\n",
    "        self.reshape2 = tf.keras.layers.Reshape(output_shape)\n",
    "        \n",
    "    def call(self,x):\n",
    "        \n",
    "        out = self.gc1(x)\n",
    "        out = self.reshape1(out)\n",
    "        out = self.lstm(out)\n",
    "        out = self.lstm2(out)\n",
    "        out = self.final(out)\n",
    "        out = self.reshape2(out)\n",
    "        \n",
    "        return out\n",
    "        \n",
    "adj = adjacency_from_distances(distances,kappa=0.6,normalize=False)\n",
    "\n",
    "plt.figure()\n",
    "plt.imshow(adj)\n",
    "\n",
    "print(\"Number of edges = \",np.sum(adj>0))\n",
    "plt.figure()\n",
    "plt.hist(np.sum(adj>0,axis=1))\n",
    "print(\"Min number of neighbours=\",np.min(np.sum(adj>0,axis=1)))\n",
    "print(\"Max number of neighbours=\",np.max(np.sum(adj>0,axis=1)))\n",
    "\n",
    "\n",
    "model = LSTMGNN(2,16,adj,output_shape)"
   ]
  },
  {
   "cell_type": "code",
   "execution_count": 10,
   "id": "07e6d983",
   "metadata": {},
   "outputs": [
    {
     "data": {
      "text/plain": [
       "[<matplotlib.lines.Line2D at 0x16b0b1b50>]"
      ]
     },
     "execution_count": 10,
     "metadata": {},
     "output_type": "execute_result"
    },
    {
     "data": {
      "image/png": "[encoded data removed]",
      "text/plain": [
       "<Figure size 432x288 with 1 Axes>"
      ]
     },
     "metadata": {
      "needs_background": "light"
     },
     "output_type": "display_data"
    }
   ],
   "source": [
    "plt.plot(adj[50])"
   ]
  },
  {
   "cell_type": "code",
   "execution_count": 11,
   "id": "c038497b",
   "metadata": {},
   "outputs": [
    {
     "name": "stdout",
     "output_type": "stream",
     "text": [
      "Model: \"lstmgnn\"\n",
      "_________________________________________________________________\n",
      " Layer (type)                Output Shape              Param #   \n",
      "=================================================================\n",
      " simple_gc (SimpleGC)        multiple                  42881     \n",
      "                                                                 \n",
      " reshape (Reshape)           multiple                  0         \n",
      "                                                                 \n",
      " lstm (LSTM)                 multiple                  3654656   \n",
      "                                                                 \n",
      " lstm_1 (LSTM)               multiple                  525312    \n",
      "                                                                 \n",
      " dense (Dense)               multiple                  1276776   \n",
      "                                                                 \n",
      " reshape_1 (Reshape)         multiple                  0         \n",
      "                                                                 \n",
      "=================================================================\n",
      "Total params: 5,499,625\n",
      "Trainable params: 5,456,776\n",
      "Non-trainable params: 42,849\n",
      "_________________________________________________________________\n"
     ]
    }
   ],
   "source": [
    "# hyperparameters and callbacks\n",
    "\n",
    "BATCH_SIZE = 64\n",
    "MAX_EPOCHS = 100\n",
    "\n",
    "def scheduler(epoch, lr):\n",
    "    if epoch<50:\n",
    "        return lr\n",
    "    elif epoch%20==0:\n",
    "        return lr/10\n",
    "    else:\n",
    "        return lr\n",
    "    \n",
    "callback_lr = tf.keras.callbacks.LearningRateScheduler(scheduler)\n",
    "callback_es = tf.keras.callbacks.EarlyStopping(monitor='val_loss', patience=10)\n",
    "\n",
    "model.compile(loss='mean_absolute_error', optimizer=tf.keras.optimizers.Adam(1e-3))\n",
    "model(scaled_data['x_train'][:5])\n",
    "model.summary()"
   ]
  },
  {
   "cell_type": "code",
   "execution_count": 13,
   "id": "a3b2307e",
   "metadata": {},
   "outputs": [
    {
     "name": "stdout",
     "output_type": "stream",
     "text": [
      "Epoch 1/100\n",
      "375/375 [==============================] - 10s 28ms/step - loss: 0.1903 - val_loss: 0.1984 - lr: 0.0010\n",
      "Epoch 2/100\n",
      "375/375 [==============================] - 10s 28ms/step - loss: 0.1868 - val_loss: 0.1947 - lr: 0.0010\n",
      "Epoch 3/100\n",
      "375/375 [==============================] - 11s 28ms/step - loss: 0.1840 - val_loss: 0.2009 - lr: 0.0010\n",
      "Epoch 4/100\n",
      "375/375 [==============================] - 11s 28ms/step - loss: 0.1816 - val_loss: 0.1834 - lr: 0.0010\n",
      "Epoch 5/100\n",
      "375/375 [==============================] - 10s 28ms/step - loss: 0.1803 - val_loss: 0.1920 - lr: 0.0010\n",
      "Epoch 6/100\n",
      "375/375 [==============================] - 10s 28ms/step - loss: 0.1798 - val_loss: 0.1925 - lr: 0.0010\n",
      "Epoch 7/100\n",
      "375/375 [==============================] - 10s 28ms/step - loss: 0.1782 - val_loss: 0.1915 - lr: 0.0010\n",
      "Epoch 8/100\n",
      "375/375 [==============================] - 11s 28ms/step - loss: 0.1747 - val_loss: 0.1913 - lr: 0.0010\n",
      "Epoch 9/100\n",
      "375/375 [==============================] - 10s 28ms/step - loss: 0.1708 - val_loss: 0.1954 - lr: 0.0010\n",
      "Epoch 10/100\n",
      "375/375 [==============================] - 10s 27ms/step - loss: 0.1688 - val_loss: 0.1909 - lr: 0.0010\n",
      "Epoch 11/100\n",
      "375/375 [==============================] - 9s 25ms/step - loss: 0.1625 - val_loss: 0.1841 - lr: 0.0010\n",
      "Epoch 12/100\n",
      "375/375 [==============================] - 9s 25ms/step - loss: 0.1598 - val_loss: 0.1780 - lr: 0.0010\n",
      "Epoch 13/100\n",
      "375/375 [==============================] - 9s 25ms/step - loss: 0.1544 - val_loss: 0.1914 - lr: 0.0010\n",
      "Epoch 14/100\n",
      "375/375 [==============================] - 9s 25ms/step - loss: 0.1533 - val_loss: 0.1851 - lr: 0.0010\n",
      "Epoch 15/100\n",
      "375/375 [==============================] - 9s 25ms/step - loss: 0.1488 - val_loss: 0.1709 - lr: 0.0010\n",
      "Epoch 16/100\n",
      "375/375 [==============================] - 9s 25ms/step - loss: 0.1497 - val_loss: 0.1718 - lr: 0.0010\n",
      "Epoch 17/100\n",
      "375/375 [==============================] - 9s 25ms/step - loss: 0.1438 - val_loss: 0.1794 - lr: 0.0010\n",
      "Epoch 18/100\n",
      "375/375 [==============================] - 10s 25ms/step - loss: 0.1443 - val_loss: 0.1799 - lr: 0.0010\n",
      "Epoch 19/100\n",
      "375/375 [==============================] - 9s 25ms/step - loss: 0.1409 - val_loss: 0.1651 - lr: 0.0010\n",
      "Epoch 20/100\n",
      "375/375 [==============================] - 9s 25ms/step - loss: 0.1404 - val_loss: 0.1753 - lr: 0.0010\n",
      "Epoch 21/100\n",
      "375/375 [==============================] - 9s 25ms/step - loss: 0.1375 - val_loss: 0.1699 - lr: 0.0010\n",
      "Epoch 22/100\n",
      "375/375 [==============================] - 9s 25ms/step - loss: 0.1348 - val_loss: 0.1626 - lr: 0.0010\n",
      "Epoch 23/100\n",
      "375/375 [==============================] - 9s 25ms/step - loss: 0.1394 - val_loss: 0.1699 - lr: 0.0010\n",
      "Epoch 24/100\n",
      "375/375 [==============================] - 9s 25ms/step - loss: 0.1365 - val_loss: 0.1712 - lr: 0.0010\n",
      "Epoch 25/100\n",
      "375/375 [==============================] - 9s 25ms/step - loss: 0.1386 - val_loss: 0.1632 - lr: 0.0010\n",
      "Epoch 26/100\n",
      "375/375 [==============================] - 9s 25ms/step - loss: 0.1319 - val_loss: 0.1654 - lr: 0.0010\n",
      "Epoch 27/100\n",
      "375/375 [==============================] - 9s 25ms/step - loss: 0.1315 - val_loss: 0.1674 - lr: 0.0010\n",
      "Epoch 28/100\n",
      "375/375 [==============================] - 9s 25ms/step - loss: 0.1322 - val_loss: 0.1840 - lr: 0.0010\n",
      "Epoch 29/100\n",
      "375/375 [==============================] - 9s 25ms/step - loss: 0.1307 - val_loss: 0.1689 - lr: 0.0010\n",
      "Epoch 30/100\n",
      "375/375 [==============================] - 10s 26ms/step - loss: 0.1287 - val_loss: 0.1708 - lr: 0.0010\n",
      "Epoch 31/100\n",
      "375/375 [==============================] - 9s 25ms/step - loss: 0.1289 - val_loss: 0.1644 - lr: 0.0010\n",
      "Epoch 32/100\n",
      "375/375 [==============================] - 9s 25ms/step - loss: 0.1272 - val_loss: 0.1696 - lr: 0.0010\n"
     ]
    }
   ],
   "source": [
    "# Compile and fit model here\n",
    "history = model.fit(\n",
    "    x=scaled_data['x_train'],\n",
    "    y=scaled_data['y_train'],\n",
    "    batch_size=BATCH_SIZE,\n",
    "    epochs=MAX_EPOCHS,\n",
    "    validation_data=(scaled_data['x_val'],\n",
    "    scaled_data['y_val']),\n",
    "    callbacks=[callback_lr,callback_es]\n",
    ")"
   ]
  },
  {
   "cell_type": "code",
   "execution_count": 14,
   "id": "2e2aa55b",
   "metadata": {},
   "outputs": [
    {
     "name": "stderr",
     "output_type": "stream",
     "text": [
      "2022-04-21 12:23:36.768985: I tensorflow/core/grappler/optimizers/custom_graph_optimizer_registry.cc:113] Plugin optimizer for device_type GPU is enabled.\n",
      "2022-04-21 12:23:36.836913: I tensorflow/core/grappler/optimizers/custom_graph_optimizer_registry.cc:113] Plugin optimizer for device_type GPU is enabled.\n",
      "2022-04-21 12:23:36.958008: I tensorflow/core/grappler/optimizers/custom_graph_optimizer_registry.cc:113] Plugin optimizer for device_type GPU is enabled.\n"
     ]
    }
   ],
   "source": [
    "# Compute unnormalized prediction loss\n",
    "\n",
    "preds = {}\n",
    "\n",
    "for split in ['test','val']:\n",
    "    preds[split] = model.predict(scaled_data['x_'+split])\n",
    "    preds[split] = scaler.inverse_transform(preds[split])"
   ]
  },
  {
   "cell_type": "code",
   "execution_count": 15,
   "id": "b32541d6",
   "metadata": {},
   "outputs": [],
   "source": [
    "# Save model\n",
    "# model.save(model_name_to_model_filepath(MODEL_NAME))\n",
    "\n",
    "# Save run info\n",
    "run_info = {}\n",
    "run_info[\"history\"] = history.history\n",
    "run_info[\"predictions\"] = preds # idk whether this part makes sense for RNNs or not\n",
    "pk.dump(run_info, open(model_name_to_run_info_filepath(MODEL_NAME), \"wb\"))"
   ]
  },
  {
   "cell_type": "code",
   "execution_count": null,
   "id": "25eea4c5",
   "metadata": {},
   "outputs": [],
   "source": []
  }
 ],
 "metadata": {
  "kernelspec": {
   "display_name": "Python 3 (ipykernel)",
   "language": "python",
   "name": "python3"
  },
  "language_info": {
   "codemirror_mode": {
    "name": "ipython",
    "version": 3
   },
   "file_extension": ".py",
   "mimetype": "text/x-python",
   "name": "python",
   "nbconvert_exporter": "python",
   "pygments_lexer": "ipython3",
   "version": "3.9.10"
  }
 },
 "nbformat": 4,
 "nbformat_minor": 5
}
