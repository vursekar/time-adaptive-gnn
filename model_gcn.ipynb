{
 "cells": [
  {
   "cell_type": "code",
   "execution_count": 2,
   "id": "95dc4aed",
   "metadata": {},
   "outputs": [],
   "source": [
    "# This cell should be exactly the same between all models\n",
    "\n",
    "import pickle as pk\n",
    "\n",
    "import numpy as np\n",
    "import tensorflow as tf\n",
    "import matplotlib.pyplot as plt\n",
    "import pandas as pd\n",
    "\n",
    "from common import *\n",
    "from util import *\n",
    "\n",
    "# Load everything\n",
    "scaled_data = {}\n",
    "with np.load(PREPROCESSED_DATASET_FILEPATH) as npz_loader:\n",
    "    for key in npz_loader:\n",
    "        scaled_data[key] = npz_loader[key]\n",
    "scaler = pk.load(open(PREPROCESSING_SCALER_FILEPATH, \"rb\"))\n",
    "\n",
    "# Input and output dims\n",
    "input_shape = tuple(list(scaled_data['x_train'].shape)[1:])\n",
    "output_shape = tuple(list(scaled_data['y_train'].shape)[1:])\n",
    "input_dims = np.product(input_shape)\n",
    "output_dims = np.product(output_shape)"
   ]
  },
  {
   "cell_type": "code",
   "execution_count": 3,
   "id": "096ed454",
   "metadata": {},
   "outputs": [
    {
     "name": "stdout",
     "output_type": "stream",
     "text": [
      "tensorflow: 2.8.0\n",
      "numpy: 1.21.5\n"
     ]
    }
   ],
   "source": [
    "print(\"tensorflow: {}\".format(tf.__version__))\n",
    "print(\"numpy: {}\".format(np.__version__))"
   ]
  },
  {
   "cell_type": "code",
   "execution_count": 4,
   "id": "6e45cc87",
   "metadata": {},
   "outputs": [],
   "source": [
    "# CONSTANTS:\n",
    "MODEL_NAME = \"SimpleGCN\""
   ]
  },
  {
   "cell_type": "code",
   "execution_count": 8,
   "id": "99d2c847",
   "metadata": {},
   "outputs": [],
   "source": [
    "distances_file = '/Users/varunursekar/Projects/advDeepLearning/final_project/DCRNN-master/data/sensor_graph/distances_bay_2017.csv'\n",
    "\n",
    "distances = pd.read_csv(distances_file,header=None)\n"
   ]
  },
  {
   "cell_type": "code",
   "execution_count": 9,
   "id": "97b35455",
   "metadata": {},
   "outputs": [
    {
     "data": {
      "text/html": [
       "<div>\n",
       "<style scoped>\n",
       "    .dataframe tbody tr th:only-of-type {\n",
       "        vertical-align: middle;\n",
       "    }\n",
       "\n",
       "    .dataframe tbody tr th {\n",
       "        vertical-align: top;\n",
       "    }\n",
       "\n",
       "    .dataframe thead th {\n",
       "        text-align: right;\n",
       "    }\n",
       "</style>\n",
       "<table border=\"1\" class=\"dataframe\">\n",
       "  <thead>\n",
       "    <tr style=\"text-align: right;\">\n",
       "      <th></th>\n",
       "      <th>0</th>\n",
       "      <th>1</th>\n",
       "      <th>2</th>\n",
       "    </tr>\n",
       "  </thead>\n",
       "  <tbody>\n",
       "    <tr>\n",
       "      <th>0</th>\n",
       "      <td>400001</td>\n",
       "      <td>400001</td>\n",
       "      <td>0.0</td>\n",
       "    </tr>\n",
       "    <tr>\n",
       "      <th>1</th>\n",
       "      <td>400017</td>\n",
       "      <td>400017</td>\n",
       "      <td>0.0</td>\n",
       "    </tr>\n",
       "    <tr>\n",
       "      <th>2</th>\n",
       "      <td>400030</td>\n",
       "      <td>400030</td>\n",
       "      <td>0.0</td>\n",
       "    </tr>\n",
       "    <tr>\n",
       "      <th>3</th>\n",
       "      <td>400030</td>\n",
       "      <td>400045</td>\n",
       "      <td>5108.4</td>\n",
       "    </tr>\n",
       "    <tr>\n",
       "      <th>4</th>\n",
       "      <td>400030</td>\n",
       "      <td>400065</td>\n",
       "      <td>7401.1</td>\n",
       "    </tr>\n",
       "    <tr>\n",
       "      <th>...</th>\n",
       "      <td>...</td>\n",
       "      <td>...</td>\n",
       "      <td>...</td>\n",
       "    </tr>\n",
       "    <tr>\n",
       "      <th>8353</th>\n",
       "      <td>414694</td>\n",
       "      <td>405701</td>\n",
       "      <td>1016.7</td>\n",
       "    </tr>\n",
       "    <tr>\n",
       "      <th>8354</th>\n",
       "      <td>414694</td>\n",
       "      <td>407710</td>\n",
       "      <td>2290.3</td>\n",
       "    </tr>\n",
       "    <tr>\n",
       "      <th>8355</th>\n",
       "      <td>414694</td>\n",
       "      <td>408907</td>\n",
       "      <td>8610.4</td>\n",
       "    </tr>\n",
       "    <tr>\n",
       "      <th>8356</th>\n",
       "      <td>414694</td>\n",
       "      <td>408911</td>\n",
       "      <td>9119.3</td>\n",
       "    </tr>\n",
       "    <tr>\n",
       "      <th>8357</th>\n",
       "      <td>414694</td>\n",
       "      <td>414694</td>\n",
       "      <td>0.0</td>\n",
       "    </tr>\n",
       "  </tbody>\n",
       "</table>\n",
       "<p>8358 rows × 3 columns</p>\n",
       "</div>"
      ],
      "text/plain": [
       "           0       1       2\n",
       "0     400001  400001     0.0\n",
       "1     400017  400017     0.0\n",
       "2     400030  400030     0.0\n",
       "3     400030  400045  5108.4\n",
       "4     400030  400065  7401.1\n",
       "...      ...     ...     ...\n",
       "8353  414694  405701  1016.7\n",
       "8354  414694  407710  2290.3\n",
       "8355  414694  408907  8610.4\n",
       "8356  414694  408911  9119.3\n",
       "8357  414694  414694     0.0\n",
       "\n",
       "[8358 rows x 3 columns]"
      ]
     },
     "execution_count": 9,
     "metadata": {},
     "output_type": "execute_result"
    }
   ],
   "source": [
    "distances"
   ]
  },
  {
   "cell_type": "code",
   "execution_count": 5,
   "id": "c038497b",
   "metadata": {},
   "outputs": [],
   "source": [
    "# hyperparameters and callbacks\n",
    "\n",
    "BATCH_SIZE = 64\n",
    "MAX_EPOCHS = 100\n",
    "\n",
    "def scheduler(epoch, lr):\n",
    "    if epoch<50:\n",
    "        return lr\n",
    "    elif epoch%20==0:\n",
    "        return lr/10\n",
    "    else:\n",
    "        return lr\n",
    "    \n",
    "callback_lr = tf.keras.callbacks.LearningRateScheduler(scheduler)\n",
    "callback_es = tf.keras.callbacks.EarlyStopping(monitor='val_loss', patience=10)\n",
    "\n",
    "model.compile(loss='mean_absolute_error', optimizer=tf.keras.optimizers.Adam(1e-3))"
   ]
  },
  {
   "cell_type": "code",
   "execution_count": 6,
   "id": "a3b2307e",
   "metadata": {},
   "outputs": [
    {
     "name": "stdout",
     "output_type": "stream",
     "text": [
      "Epoch 1/100\n"
     ]
    },
    {
     "name": "stderr",
     "output_type": "stream",
     "text": [
      "2022-03-17 10:01:28.725430: W tensorflow/core/platform/profile_utils/cpu_utils.cc:128] Failed to get CPU frequency: 0 Hz\n"
     ]
    },
    {
     "name": "stdout",
     "output_type": "stream",
     "text": [
      " 10/375 [..............................] - ETA: 2s - loss: 0.5788  "
     ]
    },
    {
     "name": "stderr",
     "output_type": "stream",
     "text": [
      "2022-03-17 10:01:28.952199: I tensorflow/core/grappler/optimizers/custom_graph_optimizer_registry.cc:113] Plugin optimizer for device_type GPU is enabled.\n"
     ]
    },
    {
     "name": "stdout",
     "output_type": "stream",
     "text": [
      "375/375 [==============================] - 3s 8ms/step - loss: 0.2496 - val_loss: 0.2197 - lr: 0.0010\n",
      "Epoch 2/100\n",
      "  1/375 [..............................] - ETA: 2s - loss: 0.1690"
     ]
    },
    {
     "name": "stderr",
     "output_type": "stream",
     "text": [
      "2022-03-17 10:01:31.977795: I tensorflow/core/grappler/optimizers/custom_graph_optimizer_registry.cc:113] Plugin optimizer for device_type GPU is enabled.\n"
     ]
    },
    {
     "name": "stdout",
     "output_type": "stream",
     "text": [
      "375/375 [==============================] - 3s 8ms/step - loss: 0.2065 - val_loss: 0.2076 - lr: 0.0010\n",
      "Epoch 3/100\n",
      "375/375 [==============================] - 3s 8ms/step - loss: 0.1986 - val_loss: 0.2040 - lr: 0.0010\n",
      "Epoch 4/100\n",
      "375/375 [==============================] - 3s 8ms/step - loss: 0.1924 - val_loss: 0.2098 - lr: 0.0010\n",
      "Epoch 5/100\n",
      "375/375 [==============================] - 3s 8ms/step - loss: 0.1872 - val_loss: 0.2080 - lr: 0.0010\n",
      "Epoch 6/100\n",
      "375/375 [==============================] - 3s 8ms/step - loss: 0.1815 - val_loss: 0.1969 - lr: 0.0010\n",
      "Epoch 7/100\n",
      "375/375 [==============================] - 3s 8ms/step - loss: 0.1765 - val_loss: 0.1975 - lr: 0.0010\n",
      "Epoch 8/100\n",
      "375/375 [==============================] - 3s 8ms/step - loss: 0.1754 - val_loss: 0.1935 - lr: 0.0010\n",
      "Epoch 9/100\n",
      "375/375 [==============================] - 3s 8ms/step - loss: 0.1738 - val_loss: 0.1943 - lr: 0.0010\n",
      "Epoch 10/100\n",
      "375/375 [==============================] - 3s 8ms/step - loss: 0.1707 - val_loss: 0.1920 - lr: 0.0010\n",
      "Epoch 11/100\n",
      "375/375 [==============================] - 3s 8ms/step - loss: 0.1693 - val_loss: 0.1968 - lr: 0.0010\n",
      "Epoch 12/100\n",
      "375/375 [==============================] - 3s 8ms/step - loss: 0.1703 - val_loss: 0.2025 - lr: 0.0010\n",
      "Epoch 13/100\n",
      "375/375 [==============================] - 3s 8ms/step - loss: 0.1679 - val_loss: 0.1964 - lr: 0.0010\n",
      "Epoch 14/100\n",
      "375/375 [==============================] - 3s 8ms/step - loss: 0.1671 - val_loss: 0.2001 - lr: 0.0010\n",
      "Epoch 15/100\n",
      "375/375 [==============================] - 3s 8ms/step - loss: 0.1666 - val_loss: 0.1914 - lr: 0.0010\n",
      "Epoch 16/100\n",
      "375/375 [==============================] - 3s 8ms/step - loss: 0.1660 - val_loss: 0.2055 - lr: 0.0010\n",
      "Epoch 17/100\n",
      "375/375 [==============================] - 3s 8ms/step - loss: 0.1653 - val_loss: 0.1925 - lr: 0.0010\n",
      "Epoch 18/100\n",
      "375/375 [==============================] - 3s 8ms/step - loss: 0.1605 - val_loss: 0.1876 - lr: 0.0010\n",
      "Epoch 19/100\n",
      "375/375 [==============================] - 3s 8ms/step - loss: 0.1628 - val_loss: 0.1952 - lr: 0.0010\n",
      "Epoch 20/100\n",
      "375/375 [==============================] - 3s 8ms/step - loss: 0.1610 - val_loss: 0.1921 - lr: 0.0010\n",
      "Epoch 21/100\n",
      "375/375 [==============================] - 3s 8ms/step - loss: 0.1562 - val_loss: 0.1921 - lr: 0.0010\n",
      "Epoch 22/100\n",
      "375/375 [==============================] - 3s 8ms/step - loss: 0.1543 - val_loss: 0.1870 - lr: 0.0010\n",
      "Epoch 23/100\n",
      "375/375 [==============================] - 3s 8ms/step - loss: 0.1518 - val_loss: 0.1892 - lr: 0.0010\n",
      "Epoch 24/100\n",
      "375/375 [==============================] - 3s 8ms/step - loss: 0.1522 - val_loss: 0.1820 - lr: 0.0010\n",
      "Epoch 25/100\n",
      "375/375 [==============================] - 3s 8ms/step - loss: 0.1528 - val_loss: 0.1914 - lr: 0.0010\n",
      "Epoch 26/100\n",
      "375/375 [==============================] - 3s 8ms/step - loss: 0.1535 - val_loss: 0.1848 - lr: 0.0010\n",
      "Epoch 27/100\n",
      "375/375 [==============================] - 3s 8ms/step - loss: 0.1503 - val_loss: 0.1831 - lr: 0.0010\n",
      "Epoch 28/100\n",
      "375/375 [==============================] - 3s 8ms/step - loss: 0.1513 - val_loss: 0.1850 - lr: 0.0010\n",
      "Epoch 29/100\n",
      "375/375 [==============================] - 3s 8ms/step - loss: 0.1485 - val_loss: 0.1821 - lr: 0.0010\n",
      "Epoch 30/100\n",
      "375/375 [==============================] - 3s 8ms/step - loss: 0.1473 - val_loss: 0.1930 - lr: 0.0010\n",
      "Epoch 31/100\n",
      "375/375 [==============================] - 3s 8ms/step - loss: 0.1466 - val_loss: 0.1792 - lr: 0.0010\n",
      "Epoch 32/100\n",
      "375/375 [==============================] - 3s 8ms/step - loss: 0.1547 - val_loss: 0.1898 - lr: 0.0010\n",
      "Epoch 33/100\n",
      "375/375 [==============================] - 3s 8ms/step - loss: 0.1475 - val_loss: 0.1856 - lr: 0.0010\n",
      "Epoch 34/100\n",
      "375/375 [==============================] - 3s 8ms/step - loss: 0.1449 - val_loss: 0.1831 - lr: 0.0010\n",
      "Epoch 35/100\n",
      "375/375 [==============================] - 3s 8ms/step - loss: 0.1433 - val_loss: 0.1808 - lr: 0.0010\n",
      "Epoch 36/100\n",
      "375/375 [==============================] - 3s 8ms/step - loss: 0.1422 - val_loss: 0.1814 - lr: 0.0010\n",
      "Epoch 37/100\n",
      "375/375 [==============================] - 3s 8ms/step - loss: 0.1425 - val_loss: 0.1797 - lr: 0.0010\n",
      "Epoch 38/100\n",
      "375/375 [==============================] - 3s 8ms/step - loss: 0.1413 - val_loss: 0.1812 - lr: 0.0010\n",
      "Epoch 39/100\n",
      "375/375 [==============================] - 3s 8ms/step - loss: 0.1397 - val_loss: 0.1792 - lr: 0.0010\n",
      "Epoch 40/100\n",
      "375/375 [==============================] - 3s 8ms/step - loss: 0.1403 - val_loss: 0.1824 - lr: 0.0010\n",
      "Epoch 41/100\n",
      "375/375 [==============================] - 3s 8ms/step - loss: 0.1396 - val_loss: 0.1793 - lr: 0.0010\n",
      "Epoch 42/100\n",
      "375/375 [==============================] - 3s 8ms/step - loss: 0.1384 - val_loss: 0.1809 - lr: 0.0010\n",
      "Epoch 43/100\n",
      "375/375 [==============================] - 3s 8ms/step - loss: 0.1383 - val_loss: 0.1752 - lr: 0.0010\n",
      "Epoch 44/100\n",
      "375/375 [==============================] - 3s 8ms/step - loss: 0.1383 - val_loss: 0.1808 - lr: 0.0010\n",
      "Epoch 45/100\n",
      "375/375 [==============================] - 3s 8ms/step - loss: 0.1364 - val_loss: 0.1751 - lr: 0.0010\n",
      "Epoch 46/100\n",
      "375/375 [==============================] - 3s 8ms/step - loss: 0.1371 - val_loss: 0.1736 - lr: 0.0010\n",
      "Epoch 47/100\n",
      "375/375 [==============================] - 3s 8ms/step - loss: 0.1363 - val_loss: 0.1756 - lr: 0.0010\n",
      "Epoch 48/100\n",
      "375/375 [==============================] - 3s 8ms/step - loss: 0.1360 - val_loss: 0.1784 - lr: 0.0010\n",
      "Epoch 49/100\n",
      "375/375 [==============================] - 3s 8ms/step - loss: 0.1362 - val_loss: 0.1754 - lr: 0.0010\n",
      "Epoch 50/100\n",
      "375/375 [==============================] - 3s 8ms/step - loss: 0.1369 - val_loss: 0.1762 - lr: 0.0010\n",
      "Epoch 51/100\n",
      "375/375 [==============================] - 3s 8ms/step - loss: 0.1373 - val_loss: 0.1742 - lr: 0.0010\n",
      "Epoch 52/100\n",
      "375/375 [==============================] - 3s 8ms/step - loss: 0.1348 - val_loss: 0.1809 - lr: 0.0010\n",
      "Epoch 53/100\n",
      "375/375 [==============================] - 3s 8ms/step - loss: 0.1355 - val_loss: 0.1760 - lr: 0.0010\n",
      "Epoch 54/100\n",
      "375/375 [==============================] - 3s 8ms/step - loss: 0.1337 - val_loss: 0.1749 - lr: 0.0010\n",
      "Epoch 55/100\n",
      "375/375 [==============================] - 3s 8ms/step - loss: 0.1358 - val_loss: 0.1782 - lr: 0.0010\n",
      "Epoch 56/100\n",
      "375/375 [==============================] - 3s 8ms/step - loss: 0.1362 - val_loss: 0.1754 - lr: 0.0010\n"
     ]
    }
   ],
   "source": [
    "# Compile and fit model here\n",
    "history = model.fit(\n",
    "    x=scaled_data['x_train'],\n",
    "    y=scaled_data['y_train'],\n",
    "    batch_size=BATCH_SIZE,\n",
    "    epochs=MAX_EPOCHS,\n",
    "    validation_data=(scaled_data['x_val'],\n",
    "    scaled_data['y_val']),\n",
    "    callbacks=[callback_lr,callback_es]\n",
    ")"
   ]
  },
  {
   "cell_type": "code",
   "execution_count": null,
   "id": "2e2aa55b",
   "metadata": {},
   "outputs": [],
   "source": [
    "# Compute unnormalized prediction loss\n",
    "\n",
    "preds = {}\n",
    "\n",
    "for split in ['test','val']:\n",
    "    preds[split] = model.predict(scaled_data['x_'+split])\n",
    "    preds[split] = scaler.inverse_transform(preds[split])"
   ]
  },
  {
   "cell_type": "code",
   "execution_count": null,
   "id": "b32541d6",
   "metadata": {},
   "outputs": [],
   "source": [
    "# Save model\n",
    "model.save(model_name_to_model_filepath(MODEL_NAME))\n",
    "\n",
    "# Save run info\n",
    "run_info = {}\n",
    "run_info[\"history\"] = history.history\n",
    "run_info[\"predictions\"] = preds # idk whether this part makes sense for RNNs or not\n",
    "pk.dump(run_info, open(model_name_to_run_info_filepath(MODEL_NAME), \"wb\"))"
   ]
  }
 ],
 "metadata": {
  "kernelspec": {
   "display_name": "Python 3 (ipykernel)",
   "language": "python",
   "name": "python3"
  },
  "language_info": {
   "codemirror_mode": {
    "name": "ipython",
    "version": 3
   },
   "file_extension": ".py",
   "mimetype": "text/x-python",
   "name": "python",
   "nbconvert_exporter": "python",
   "pygments_lexer": "ipython3",
   "version": "3.9.10"
  }
 },
 "nbformat": 4,
 "nbformat_minor": 5
}
