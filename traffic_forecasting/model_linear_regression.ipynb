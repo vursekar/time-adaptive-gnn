{
 "cells": [
  {
   "cell_type": "code",
   "execution_count": 2,
   "id": "95dc4aed",
   "metadata": {},
   "outputs": [],
   "source": [
    "# This cell should be exactly the same between all models\n",
    "\n",
    "import pickle as pk\n",
    "\n",
    "import numpy as np\n",
    "import tensorflow as tf\n",
    "import matplotlib.pyplot as plt\n",
    "\n",
    "from common import *\n",
    "from util import *\n",
    "\n",
    "# Load everything\n",
    "scaled_data = {}\n",
    "with np.load(PREPROCESSED_DATASET_FILEPATH) as npz_loader:\n",
    "    for key in npz_loader:\n",
    "        scaled_data[key] = npz_loader[key]\n",
    "scaler = pk.load(open(PREPROCESSING_SCALER_FILEPATH, \"rb\"))\n",
    "\n",
    "# Input and output dims\n",
    "input_shape = tuple(list(scaled_data['x_train'].shape)[1:])\n",
    "output_shape = tuple(list(scaled_data['y_train'].shape)[1:])\n",
    "input_dims = np.product(input_shape)\n",
    "output_dims = np.product(output_shape)"
   ]
  },
  {
   "cell_type": "code",
   "execution_count": 3,
   "id": "096ed454",
   "metadata": {},
   "outputs": [
    {
     "name": "stdout",
     "output_type": "stream",
     "text": [
      "tensorflow: 2.8.0\n",
      "numpy: 1.21.5\n"
     ]
    }
   ],
   "source": [
    "print(\"tensorflow: {}\".format(tf.__version__))\n",
    "print(\"numpy: {}\".format(np.__version__))"
   ]
  },
  {
   "cell_type": "code",
   "execution_count": 4,
   "id": "6e45cc87",
   "metadata": {},
   "outputs": [],
   "source": [
    "# CONSTANTS:\n",
    "MODEL_NAME = \"LinearRegression\""
   ]
  },
  {
   "cell_type": "code",
   "execution_count": 5,
   "id": "99d2c847",
   "metadata": {},
   "outputs": [
    {
     "name": "stdout",
     "output_type": "stream",
     "text": [
      "Metal device set to: Apple M1 Max\n"
     ]
    },
    {
     "name": "stderr",
     "output_type": "stream",
     "text": [
      "2022-03-17 14:29:28.756475: I tensorflow/core/common_runtime/pluggable_device/pluggable_device_factory.cc:305] Could not identify NUMA node of platform GPU ID 0, defaulting to 0. Your kernel may not have been built with NUMA support.\n",
      "2022-03-17 14:29:28.756759: I tensorflow/core/common_runtime/pluggable_device/pluggable_device_factory.cc:271] Created TensorFlow device (/job:localhost/replica:0/task:0/device:GPU:0 with 0 MB memory) -> physical PluggableDevice (device: 0, name: METAL, pci bus id: <undefined>)\n"
     ]
    }
   ],
   "source": [
    "# Construct TF model here\n",
    "\n",
    "# Linear Regression\n",
    "model = tf.keras.Sequential(\n",
    "    [\n",
    "        tf.keras.layers.Flatten(),\n",
    "        tf.keras.layers.Dense(units=output_dims,\n",
    "                              activation='linear',\n",
    "                              kernel_regularizer=tf.keras.regularizers.L1L2(l1=0.0,l2=1e-3)),\n",
    "        tf.keras.layers.Reshape(output_shape)\n",
    "    ]\n",
    ")"
   ]
  },
  {
   "cell_type": "code",
   "execution_count": 6,
   "id": "c038497b",
   "metadata": {},
   "outputs": [],
   "source": [
    "# hyperparameters and callbacks\n",
    "\n",
    "BATCH_SIZE = 64\n",
    "MAX_EPOCHS = 100\n",
    "\n",
    "def scheduler(epoch, lr):\n",
    "    if epoch<50:\n",
    "        return lr\n",
    "    elif epoch%20==0:\n",
    "        return lr/10\n",
    "    else:\n",
    "        return lr\n",
    "    \n",
    "callback_lr = tf.keras.callbacks.LearningRateScheduler(scheduler)\n",
    "callback_es = tf.keras.callbacks.EarlyStopping(monitor='val_loss', patience=10)\n",
    "\n",
    "model.compile(loss='mean_absolute_error',\n",
    "              optimizer=tf.keras.optimizers.Adam(1e-3))"
   ]
  },
  {
   "cell_type": "code",
   "execution_count": 7,
   "id": "a3b2307e",
   "metadata": {},
   "outputs": [
    {
     "name": "stdout",
     "output_type": "stream",
     "text": [
      "Epoch 1/100\n"
     ]
    },
    {
     "name": "stderr",
     "output_type": "stream",
     "text": [
      "2022-03-17 14:29:33.293370: W tensorflow/core/platform/profile_utils/cpu_utils.cc:128] Failed to get CPU frequency: 0 Hz\n",
      "2022-03-17 14:29:33.446327: I tensorflow/core/grappler/optimizers/custom_graph_optimizer_registry.cc:113] Plugin optimizer for device_type GPU is enabled.\n"
     ]
    },
    {
     "name": "stdout",
     "output_type": "stream",
     "text": [
      "570/570 [==============================] - ETA: 0s - loss: 0.7004"
     ]
    },
    {
     "name": "stderr",
     "output_type": "stream",
     "text": [
      "2022-03-17 14:29:46.070420: I tensorflow/core/grappler/optimizers/custom_graph_optimizer_registry.cc:113] Plugin optimizer for device_type GPU is enabled.\n"
     ]
    },
    {
     "name": "stdout",
     "output_type": "stream",
     "text": [
      "570/570 [==============================] - 13s 23ms/step - loss: 0.7004 - val_loss: 0.5089 - lr: 0.0010\n",
      "Epoch 2/100\n",
      "570/570 [==============================] - 14s 24ms/step - loss: 0.4698 - val_loss: 0.5167 - lr: 0.0010\n",
      "Epoch 3/100\n",
      "570/570 [==============================] - 14s 25ms/step - loss: 0.4703 - val_loss: 0.5644 - lr: 0.0010\n",
      "Epoch 4/100\n",
      "570/570 [==============================] - 14s 25ms/step - loss: 0.4705 - val_loss: 0.4866 - lr: 0.0010\n",
      "Epoch 5/100\n",
      "570/570 [==============================] - 14s 25ms/step - loss: 0.4710 - val_loss: 0.5279 - lr: 0.0010\n",
      "Epoch 6/100\n",
      "570/570 [==============================] - 15s 25ms/step - loss: 0.4723 - val_loss: 0.5167 - lr: 0.0010\n",
      "Epoch 7/100\n",
      "570/570 [==============================] - 15s 26ms/step - loss: 0.4708 - val_loss: 0.4842 - lr: 0.0010\n",
      "Epoch 8/100\n",
      "570/570 [==============================] - 15s 26ms/step - loss: 0.4688 - val_loss: 0.5150 - lr: 0.0010\n",
      "Epoch 9/100\n",
      "570/570 [==============================] - 15s 26ms/step - loss: 0.4704 - val_loss: 0.5086 - lr: 0.0010\n",
      "Epoch 10/100\n",
      "570/570 [==============================] - 15s 26ms/step - loss: 0.4692 - val_loss: 0.5207 - lr: 0.0010\n",
      "Epoch 11/100\n",
      "570/570 [==============================] - 15s 26ms/step - loss: 0.4685 - val_loss: 0.5031 - lr: 0.0010\n",
      "Epoch 12/100\n",
      "570/570 [==============================] - 15s 26ms/step - loss: 0.4729 - val_loss: 0.5277 - lr: 0.0010\n",
      "Epoch 13/100\n",
      "570/570 [==============================] - 15s 26ms/step - loss: 0.4721 - val_loss: 0.4911 - lr: 0.0010\n",
      "Epoch 14/100\n",
      "570/570 [==============================] - 15s 26ms/step - loss: 0.4692 - val_loss: 0.5149 - lr: 0.0010\n",
      "Epoch 15/100\n",
      "570/570 [==============================] - 16s 28ms/step - loss: 0.4696 - val_loss: 0.4854 - lr: 0.0010\n",
      "Epoch 16/100\n",
      "570/570 [==============================] - 15s 26ms/step - loss: 0.4680 - val_loss: 0.5244 - lr: 0.0010\n",
      "Epoch 17/100\n",
      "570/570 [==============================] - 15s 26ms/step - loss: 0.4710 - val_loss: 0.5148 - lr: 0.0010\n"
     ]
    }
   ],
   "source": [
    "# Compile and fit model here\n",
    "history = model.fit(\n",
    "    x=scaled_data['x_train'],\n",
    "    y=scaled_data['y_train'],\n",
    "    batch_size=BATCH_SIZE,\n",
    "    epochs=MAX_EPOCHS,\n",
    "    validation_data=(scaled_data['x_val'],\n",
    "    scaled_data['y_val']),\n",
    "    callbacks=[callback_lr,callback_es]\n",
    ")"
   ]
  },
  {
   "cell_type": "code",
   "execution_count": 8,
   "id": "88fe3e3b",
   "metadata": {},
   "outputs": [
    {
     "name": "stderr",
     "output_type": "stream",
     "text": [
      "2022-03-17 14:34:17.521868: I tensorflow/core/grappler/optimizers/custom_graph_optimizer_registry.cc:113] Plugin optimizer for device_type GPU is enabled.\n"
     ]
    }
   ],
   "source": [
    "# Compute unnormalized prediction loss\n",
    "\n",
    "preds = {}\n",
    "\n",
    "for split in ['test','val']:\n",
    "    preds[split] = model.predict(scaled_data['x_'+split])\n",
    "    preds[split] = scaler.inverse_transform(preds[split])"
   ]
  },
  {
   "cell_type": "code",
   "execution_count": 9,
   "id": "b32541d6",
   "metadata": {},
   "outputs": [],
   "source": [
    "# Save model\n",
    "model.save(model_name_to_model_filepath(MODEL_NAME))\n",
    "\n",
    "# Save run info\n",
    "run_info = {}\n",
    "run_info[\"history\"] = history.history\n",
    "run_info[\"predictions\"] = preds # idk whether this part makes sense for RNNs or not\n",
    "pk.dump(run_info, open(model_name_to_run_info_filepath(MODEL_NAME), \"wb\"))"
   ]
  },
  {
   "cell_type": "code",
   "execution_count": null,
   "id": "882b7389",
   "metadata": {},
   "outputs": [],
   "source": []
  }
 ],
 "metadata": {
  "kernelspec": {
   "display_name": "Python 3 (ipykernel)",
   "language": "python",
   "name": "python3"
  },
  "language_info": {
   "codemirror_mode": {
    "name": "ipython",
    "version": 3
   },
   "file_extension": ".py",
   "mimetype": "text/x-python",
   "name": "python",
   "nbconvert_exporter": "python",
   "pygments_lexer": "ipython3",
   "version": "3.9.10"
  }
 },
 "nbformat": 4,
 "nbformat_minor": 5
}
