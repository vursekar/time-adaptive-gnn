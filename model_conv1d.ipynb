{
 "cells": [
  {
   "cell_type": "code",
   "execution_count": 1,
   "id": "95dc4aed",
   "metadata": {},
   "outputs": [],
   "source": [
    "# This cell should be exactly the same between all models\n",
    "\n",
    "import pickle as pk\n",
    "\n",
    "import numpy as np\n",
    "import tensorflow as tf\n",
    "import matplotlib.pyplot as plt\n",
    "\n",
    "from common import *\n",
    "from util import *\n",
    "\n",
    "# Load everything\n",
    "scaled_data = {}\n",
    "with np.load(PREPROCESSED_DATASET_FILEPATH) as npz_loader:\n",
    "    for key in npz_loader:\n",
    "        scaled_data[key] = npz_loader[key]\n",
    "scaler = pk.load(open(PREPROCESSING_SCALER_FILEPATH, \"rb\"))\n",
    "\n",
    "# Input and output dims\n",
    "input_shape = tuple(list(scaled_data['x_train'].shape)[1:])\n",
    "output_shape = tuple(list(scaled_data['y_train'].shape)[1:])\n",
    "input_dims = np.product(input_shape)\n",
    "output_dims = np.product(output_shape)"
   ]
  },
  {
   "cell_type": "code",
   "execution_count": 2,
   "id": "c77c6986",
   "metadata": {},
   "outputs": [
    {
     "data": {
      "text/plain": [
       "(12, 207, 2)"
      ]
     },
     "execution_count": 2,
     "metadata": {},
     "output_type": "execute_result"
    }
   ],
   "source": [
    "input_shape"
   ]
  },
  {
   "cell_type": "code",
   "execution_count": 2,
   "id": "096ed454",
   "metadata": {},
   "outputs": [
    {
     "name": "stdout",
     "output_type": "stream",
     "text": [
      "tensorflow: 2.8.0\n",
      "numpy: 1.21.5\n"
     ]
    }
   ],
   "source": [
    "print(\"tensorflow: {}\".format(tf.__version__))\n",
    "print(\"numpy: {}\".format(np.__version__))"
   ]
  },
  {
   "cell_type": "code",
   "execution_count": 3,
   "id": "6e45cc87",
   "metadata": {},
   "outputs": [],
   "source": [
    "# CONSTANTS:\n",
    "MODEL_NAME = \"conv1d\""
   ]
  },
  {
   "cell_type": "code",
   "execution_count": 4,
   "id": "99d2c847",
   "metadata": {},
   "outputs": [
    {
     "name": "stdout",
     "output_type": "stream",
     "text": [
      "Metal device set to: Apple M1 Max\n"
     ]
    },
    {
     "name": "stderr",
     "output_type": "stream",
     "text": [
      "2022-03-17 14:39:34.483351: I tensorflow/core/common_runtime/pluggable_device/pluggable_device_factory.cc:305] Could not identify NUMA node of platform GPU ID 0, defaulting to 0. Your kernel may not have been built with NUMA support.\n",
      "2022-03-17 14:39:34.483526: I tensorflow/core/common_runtime/pluggable_device/pluggable_device_factory.cc:271] Created TensorFlow device (/job:localhost/replica:0/task:0/device:GPU:0 with 0 MB memory) -> physical PluggableDevice (device: 0, name: METAL, pci bus id: <undefined>)\n"
     ]
    }
   ],
   "source": [
    "# Construct TF model here\n",
    "\n",
    "# Simple Feedforward Neural Network\n",
    "model = tf.keras.Sequential(\n",
    "    [\n",
    "        tf.keras.layers.Reshape((12, -1)),\n",
    "        tf.keras.layers.Conv1D(filters=32,kernel_size=3,padding='same',activation='relu'),\n",
    "        tf.keras.layers.Conv1D(filters=32,kernel_size=3,padding='same',activation='relu'),\n",
    "        tf.keras.layers.Flatten(),\n",
    "        tf.keras.layers.Dense(output_dims,activation='linear'),\n",
    "        tf.keras.layers.Reshape(output_shape)\n",
    "    ]\n",
    ")"
   ]
  },
  {
   "cell_type": "code",
   "execution_count": 5,
   "id": "c038497b",
   "metadata": {},
   "outputs": [],
   "source": [
    "# hyperparameters and callbacks\n",
    "\n",
    "BATCH_SIZE = 64\n",
    "MAX_EPOCHS = 100\n",
    "\n",
    "def scheduler(epoch, lr):\n",
    "    if epoch<50:\n",
    "        return lr\n",
    "    elif epoch%20==0:\n",
    "        return lr/10\n",
    "    else:\n",
    "        return lr\n",
    "    \n",
    "callback_lr = tf.keras.callbacks.LearningRateScheduler(scheduler)\n",
    "callback_es = tf.keras.callbacks.EarlyStopping(monitor='val_loss', patience=10)\n",
    "\n",
    "model.compile(loss='mean_absolute_error', optimizer=tf.keras.optimizers.Adam(1e-3))"
   ]
  },
  {
   "cell_type": "code",
   "execution_count": 6,
   "id": "a3b2307e",
   "metadata": {},
   "outputs": [
    {
     "name": "stdout",
     "output_type": "stream",
     "text": [
      "Epoch 1/100\n"
     ]
    },
    {
     "name": "stderr",
     "output_type": "stream",
     "text": [
      "2022-03-17 14:39:41.907864: W tensorflow/core/platform/profile_utils/cpu_utils.cc:128] Failed to get CPU frequency: 0 Hz\n"
     ]
    },
    {
     "name": "stdout",
     "output_type": "stream",
     "text": [
      "\r",
      "  1/570 [..............................] - ETA: 3:42 - loss: 0.7276"
     ]
    },
    {
     "name": "stderr",
     "output_type": "stream",
     "text": [
      "2022-03-17 14:39:42.116410: I tensorflow/core/grappler/optimizers/custom_graph_optimizer_registry.cc:113] Plugin optimizer for device_type GPU is enabled.\n"
     ]
    },
    {
     "name": "stdout",
     "output_type": "stream",
     "text": [
      "570/570 [==============================] - ETA: 0s - loss: 0.2206"
     ]
    },
    {
     "name": "stderr",
     "output_type": "stream",
     "text": [
      "2022-03-17 14:39:47.698422: I tensorflow/core/grappler/optimizers/custom_graph_optimizer_registry.cc:113] Plugin optimizer for device_type GPU is enabled.\n"
     ]
    },
    {
     "name": "stdout",
     "output_type": "stream",
     "text": [
      "570/570 [==============================] - 6s 10ms/step - loss: 0.2206 - val_loss: 0.2246 - lr: 0.0010\n",
      "Epoch 2/100\n",
      "570/570 [==============================] - 6s 10ms/step - loss: 0.1869 - val_loss: 0.2130 - lr: 0.0010\n",
      "Epoch 3/100\n",
      "570/570 [==============================] - 6s 10ms/step - loss: 0.1791 - val_loss: 0.2096 - lr: 0.0010\n",
      "Epoch 4/100\n",
      "570/570 [==============================] - 6s 10ms/step - loss: 0.1751 - val_loss: 0.2030 - lr: 0.0010\n",
      "Epoch 5/100\n",
      "570/570 [==============================] - 6s 10ms/step - loss: 0.1722 - val_loss: 0.2055 - lr: 0.0010\n",
      "Epoch 6/100\n",
      "570/570 [==============================] - 6s 10ms/step - loss: 0.1699 - val_loss: 0.2025 - lr: 0.0010\n",
      "Epoch 7/100\n",
      "570/570 [==============================] - 6s 10ms/step - loss: 0.1681 - val_loss: 0.1987 - lr: 0.0010\n",
      "Epoch 8/100\n",
      "570/570 [==============================] - 6s 10ms/step - loss: 0.1664 - val_loss: 0.1965 - lr: 0.0010\n",
      "Epoch 9/100\n",
      "570/570 [==============================] - 6s 10ms/step - loss: 0.1655 - val_loss: 0.1989 - lr: 0.0010\n",
      "Epoch 10/100\n",
      "570/570 [==============================] - 6s 10ms/step - loss: 0.1647 - val_loss: 0.1962 - lr: 0.0010\n",
      "Epoch 11/100\n",
      "570/570 [==============================] - 6s 10ms/step - loss: 0.1635 - val_loss: 0.1995 - lr: 0.0010\n",
      "Epoch 12/100\n",
      "570/570 [==============================] - 6s 10ms/step - loss: 0.1628 - val_loss: 0.1959 - lr: 0.0010\n",
      "Epoch 13/100\n",
      "570/570 [==============================] - 6s 10ms/step - loss: 0.1625 - val_loss: 0.1982 - lr: 0.0010\n",
      "Epoch 14/100\n",
      "570/570 [==============================] - 6s 10ms/step - loss: 0.1616 - val_loss: 0.1980 - lr: 0.0010\n",
      "Epoch 15/100\n",
      "570/570 [==============================] - 6s 10ms/step - loss: 0.1612 - val_loss: 0.1962 - lr: 0.0010\n",
      "Epoch 16/100\n",
      "570/570 [==============================] - 6s 10ms/step - loss: 0.1610 - val_loss: 0.1962 - lr: 0.0010\n",
      "Epoch 17/100\n",
      "570/570 [==============================] - 6s 10ms/step - loss: 0.1604 - val_loss: 0.1959 - lr: 0.0010\n",
      "Epoch 18/100\n",
      "570/570 [==============================] - 6s 10ms/step - loss: 0.1599 - val_loss: 0.1959 - lr: 0.0010\n",
      "Epoch 19/100\n",
      "570/570 [==============================] - 6s 10ms/step - loss: 0.1599 - val_loss: 0.1957 - lr: 0.0010\n",
      "Epoch 20/100\n",
      "570/570 [==============================] - 6s 10ms/step - loss: 0.1592 - val_loss: 0.1996 - lr: 0.0010\n",
      "Epoch 21/100\n",
      "570/570 [==============================] - 6s 10ms/step - loss: 0.1587 - val_loss: 0.1969 - lr: 0.0010\n",
      "Epoch 22/100\n",
      "570/570 [==============================] - 6s 10ms/step - loss: 0.1587 - val_loss: 0.1985 - lr: 0.0010\n",
      "Epoch 23/100\n",
      "570/570 [==============================] - 6s 10ms/step - loss: 0.1573 - val_loss: 0.1946 - lr: 0.0010\n",
      "Epoch 24/100\n",
      "570/570 [==============================] - 6s 10ms/step - loss: 0.1551 - val_loss: 0.2025 - lr: 0.0010\n",
      "Epoch 25/100\n",
      "570/570 [==============================] - 6s 10ms/step - loss: 0.1519 - val_loss: 0.1916 - lr: 0.0010\n",
      "Epoch 26/100\n",
      "570/570 [==============================] - 6s 10ms/step - loss: 0.1496 - val_loss: 0.1890 - lr: 0.0010\n",
      "Epoch 27/100\n",
      "570/570 [==============================] - 6s 10ms/step - loss: 0.1475 - val_loss: 0.1909 - lr: 0.0010\n",
      "Epoch 28/100\n",
      "570/570 [==============================] - 6s 10ms/step - loss: 0.1468 - val_loss: 0.1923 - lr: 0.0010\n",
      "Epoch 29/100\n",
      "570/570 [==============================] - 6s 10ms/step - loss: 0.1448 - val_loss: 0.1922 - lr: 0.0010\n",
      "Epoch 30/100\n",
      "570/570 [==============================] - 6s 10ms/step - loss: 0.1459 - val_loss: 0.1936 - lr: 0.0010\n",
      "Epoch 31/100\n",
      "570/570 [==============================] - 6s 10ms/step - loss: 0.1435 - val_loss: 0.1923 - lr: 0.0010\n",
      "Epoch 32/100\n",
      "570/570 [==============================] - 6s 10ms/step - loss: 0.1428 - val_loss: 0.1886 - lr: 0.0010\n",
      "Epoch 33/100\n",
      "570/570 [==============================] - 6s 10ms/step - loss: 0.1432 - val_loss: 0.1883 - lr: 0.0010\n",
      "Epoch 34/100\n",
      "570/570 [==============================] - 6s 10ms/step - loss: 0.1477 - val_loss: 0.1910 - lr: 0.0010\n",
      "Epoch 35/100\n",
      "570/570 [==============================] - 6s 10ms/step - loss: 0.1454 - val_loss: 0.1928 - lr: 0.0010\n",
      "Epoch 36/100\n",
      "570/570 [==============================] - 6s 10ms/step - loss: 0.1432 - val_loss: 0.1909 - lr: 0.0010\n",
      "Epoch 37/100\n",
      "570/570 [==============================] - 6s 10ms/step - loss: 0.1424 - val_loss: 0.1936 - lr: 0.0010\n",
      "Epoch 38/100\n",
      "570/570 [==============================] - 6s 10ms/step - loss: 0.1471 - val_loss: 0.1855 - lr: 0.0010\n",
      "Epoch 39/100\n",
      "570/570 [==============================] - 6s 10ms/step - loss: 0.1411 - val_loss: 0.1963 - lr: 0.0010\n",
      "Epoch 40/100\n",
      "570/570 [==============================] - 6s 10ms/step - loss: 0.1405 - val_loss: 0.1857 - lr: 0.0010\n",
      "Epoch 41/100\n",
      "570/570 [==============================] - 6s 10ms/step - loss: 0.1405 - val_loss: 0.1926 - lr: 0.0010\n",
      "Epoch 42/100\n",
      "570/570 [==============================] - 6s 10ms/step - loss: 0.1390 - val_loss: 0.1977 - lr: 0.0010\n",
      "Epoch 43/100\n",
      "570/570 [==============================] - 6s 10ms/step - loss: 0.1390 - val_loss: 0.1916 - lr: 0.0010\n",
      "Epoch 44/100\n",
      "570/570 [==============================] - 6s 10ms/step - loss: 0.1400 - val_loss: 0.1935 - lr: 0.0010\n",
      "Epoch 45/100\n",
      "570/570 [==============================] - 6s 10ms/step - loss: 0.1380 - val_loss: 0.1921 - lr: 0.0010\n",
      "Epoch 46/100\n",
      "570/570 [==============================] - 6s 10ms/step - loss: 0.1386 - val_loss: 0.1918 - lr: 0.0010\n",
      "Epoch 47/100\n",
      "570/570 [==============================] - 6s 10ms/step - loss: 0.1385 - val_loss: 0.1900 - lr: 0.0010\n",
      "Epoch 48/100\n",
      "570/570 [==============================] - 6s 10ms/step - loss: 0.1378 - val_loss: 0.1892 - lr: 0.0010\n"
     ]
    }
   ],
   "source": [
    "# Compile and fit model here\n",
    "history = model.fit(\n",
    "    x=scaled_data['x_train'],\n",
    "    y=scaled_data['y_train'],\n",
    "    batch_size=BATCH_SIZE,\n",
    "    epochs=MAX_EPOCHS,\n",
    "    validation_data=(scaled_data['x_val'],\n",
    "    scaled_data['y_val']),\n",
    "    callbacks=[callback_lr,callback_es]\n",
    ")"
   ]
  },
  {
   "cell_type": "code",
   "execution_count": 7,
   "id": "2e2aa55b",
   "metadata": {},
   "outputs": [
    {
     "name": "stderr",
     "output_type": "stream",
     "text": [
      "2022-03-17 14:45:39.764044: I tensorflow/core/grappler/optimizers/custom_graph_optimizer_registry.cc:113] Plugin optimizer for device_type GPU is enabled.\n"
     ]
    }
   ],
   "source": [
    "# Compute unnormalized prediction loss\n",
    "\n",
    "preds = {}\n",
    "\n",
    "for split in ['test','val']:\n",
    "    preds[split] = model.predict(scaled_data['x_'+split])\n",
    "    preds[split] = scaler.inverse_transform(preds[split])"
   ]
  },
  {
   "cell_type": "code",
   "execution_count": 8,
   "id": "b32541d6",
   "metadata": {},
   "outputs": [],
   "source": [
    "# Save model\n",
    "model.save(model_name_to_model_filepath(MODEL_NAME))\n",
    "\n",
    "# Save run info\n",
    "run_info = {}\n",
    "run_info[\"history\"] = history.history\n",
    "run_info[\"predictions\"] = preds # idk whether this part makes sense for RNNs or not\n",
    "pk.dump(run_info, open(model_name_to_run_info_filepath(MODEL_NAME), \"wb\"))"
   ]
  },
  {
   "cell_type": "code",
   "execution_count": null,
   "id": "2e79af90",
   "metadata": {},
   "outputs": [],
   "source": []
  }
 ],
 "metadata": {
  "kernelspec": {
   "display_name": "Python 3 (ipykernel)",
   "language": "python",
   "name": "python3"
  },
  "language_info": {
   "codemirror_mode": {
    "name": "ipython",
    "version": 3
   },
   "file_extension": ".py",
   "mimetype": "text/x-python",
   "name": "python",
   "nbconvert_exporter": "python",
   "pygments_lexer": "ipython3",
   "version": "3.9.10"
  }
 },
 "nbformat": 4,
 "nbformat_minor": 5
}
