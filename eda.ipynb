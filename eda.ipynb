{
 "cells": [
  {
   "cell_type": "code",
   "execution_count": 1,
   "id": "f93835d0",
   "metadata": {},
   "outputs": [],
   "source": [
    "import numpy as np\n",
    "\n",
    "directory = \"/Users/varunursekar/Projects/advDeepLearning/final_project/data/METR-LA/\"\n",
    "\n",
    "train_data = np.load(directory+'train.npz')\n",
    "val_data = np.load(directory+'val.npz')\n",
    "test_data = np.load(directory+'test.npz')"
   ]
  },
  {
   "cell_type": "code",
   "execution_count": 2,
   "id": "026adbf6",
   "metadata": {},
   "outputs": [],
   "source": [
    "trainX = train_data['x']\n",
    "trainY = train_data['y']\n",
    "trainX_offsets = train_data['x_offsets']\n",
    "trainY_offsets = train_data['y_offsets']\n",
    "\n",
    "valX = val_data['x']\n",
    "valY = val_data['y']\n",
    "valX_offsets = val_data['x_offsets']\n",
    "valY_offsets = val_data['y_offsets']"
   ]
  },
  {
   "cell_type": "code",
   "execution_count": 11,
   "id": "4681b47c",
   "metadata": {},
   "outputs": [],
   "source": [
    "N = trainY.shape[0]\n",
    "Nval = valY.shape[0]\n",
    "output_dims = trainY.reshape(trainY.shape[0],-1).shape[1]"
   ]
  },
  {
   "cell_type": "code",
   "execution_count": 19,
   "id": "a332aea0",
   "metadata": {},
   "outputs": [],
   "source": [
    "import tensorflow as tf\n",
    "import matplotlib.pyplot as plt\n",
    "\n",
    "trainY_flat = trainY.reshape(N,-1)\n",
    "valY_flat = valY.reshape(Nval,-1)\n"
   ]
  },
  {
   "cell_type": "code",
   "execution_count": 29,
   "id": "0cdb0290",
   "metadata": {},
   "outputs": [],
   "source": [
    "model = tf.keras.Sequential([tf.keras.layers.Flatten(),\n",
    "                             tf.keras.layers.Dense(units=256,activation='relu'),\n",
    "                             tf.keras.layers.Dense(units=256,activation='relu'),\n",
    "                             tf.keras.layers.Dense(units=output_dims,activation='linear')])\n",
    "\n",
    "\n",
    "\n",
    "def scheduler(epoch, lr):\n",
    "    if epoch < 50:\n",
    "        return lr\n",
    "    elif epoch%20==0:\n",
    "        return lr/10\n",
    "    else:\n",
    "        return lr\n",
    "    \n",
    "callback = tf.keras.callbacks.LearningRateScheduler(scheduler)\n",
    "\n",
    "callback_es = tf.keras.callbacks.EarlyStopping(monitor='val_loss', patience=3)\n",
    "\n",
    "model.compile(loss='mean_absolute_error',\n",
    "              optimizer=tf.keras.optimizers.Adam(0.001))"
   ]
  },
  {
   "cell_type": "code",
   "execution_count": 30,
   "id": "b8253087",
   "metadata": {},
   "outputs": [
    {
     "name": "stdout",
     "output_type": "stream",
     "text": [
      "Epoch 1/40\n",
      " 19/375 [>.............................] - ETA: 2s - loss: 13.7101"
     ]
    },
    {
     "name": "stderr",
     "output_type": "stream",
     "text": [
      "2022-03-15 13:37:20.728067: I tensorflow/core/grappler/optimizers/custom_graph_optimizer_registry.cc:113] Plugin optimizer for device_type GPU is enabled.\n"
     ]
    },
    {
     "name": "stdout",
     "output_type": "stream",
     "text": [
      "375/375 [==============================] - 3s 7ms/step - loss: 4.5629 - val_loss: 3.6383 - lr: 0.0010\n",
      "Epoch 2/40\n",
      "  1/375 [..............................] - ETA: 1s - loss: 4.1783"
     ]
    },
    {
     "name": "stderr",
     "output_type": "stream",
     "text": [
      "2022-03-15 13:37:23.239352: I tensorflow/core/grappler/optimizers/custom_graph_optimizer_registry.cc:113] Plugin optimizer for device_type GPU is enabled.\n"
     ]
    },
    {
     "name": "stdout",
     "output_type": "stream",
     "text": [
      "375/375 [==============================] - 3s 7ms/step - loss: 3.3965 - val_loss: 3.2713 - lr: 0.0010\n",
      "Epoch 3/40\n",
      "375/375 [==============================] - 3s 7ms/step - loss: 3.1382 - val_loss: 3.2420 - lr: 0.0010\n",
      "Epoch 4/40\n",
      "375/375 [==============================] - 3s 7ms/step - loss: 3.0259 - val_loss: 3.1080 - lr: 0.0010\n",
      "Epoch 5/40\n",
      "375/375 [==============================] - 2s 7ms/step - loss: 2.9599 - val_loss: 3.0635 - lr: 0.0010\n",
      "Epoch 6/40\n",
      "375/375 [==============================] - 2s 7ms/step - loss: 2.9043 - val_loss: 3.0123 - lr: 0.0010\n",
      "Epoch 7/40\n",
      "375/375 [==============================] - 2s 7ms/step - loss: 2.8821 - val_loss: 2.9840 - lr: 0.0010\n",
      "Epoch 8/40\n",
      "375/375 [==============================] - 2s 7ms/step - loss: 2.8225 - val_loss: 2.9415 - lr: 0.0010\n",
      "Epoch 9/40\n",
      "375/375 [==============================] - 3s 7ms/step - loss: 2.8064 - val_loss: 3.0913 - lr: 0.0010\n",
      "Epoch 10/40\n",
      "375/375 [==============================] - 3s 7ms/step - loss: 2.7680 - val_loss: 2.9133 - lr: 0.0010\n",
      "Epoch 11/40\n",
      "375/375 [==============================] - 3s 7ms/step - loss: 2.7330 - val_loss: 2.9439 - lr: 0.0010\n",
      "Epoch 12/40\n",
      "375/375 [==============================] - 2s 7ms/step - loss: 2.7199 - val_loss: 2.9749 - lr: 0.0010\n",
      "Epoch 13/40\n",
      "375/375 [==============================] - 3s 7ms/step - loss: 2.6711 - val_loss: 2.8998 - lr: 0.0010\n",
      "Epoch 14/40\n",
      "375/375 [==============================] - 3s 7ms/step - loss: 2.6395 - val_loss: 2.8250 - lr: 0.0010\n",
      "Epoch 15/40\n",
      "375/375 [==============================] - 3s 7ms/step - loss: 2.5929 - val_loss: 2.8072 - lr: 0.0010\n",
      "Epoch 16/40\n",
      "375/375 [==============================] - 3s 7ms/step - loss: 2.5635 - val_loss: 2.8553 - lr: 0.0010\n",
      "Epoch 17/40\n",
      "375/375 [==============================] - 3s 7ms/step - loss: 2.5614 - val_loss: 2.8650 - lr: 0.0010\n",
      "Epoch 18/40\n",
      "375/375 [==============================] - 3s 7ms/step - loss: 2.5453 - val_loss: 2.8578 - lr: 0.0010\n",
      "Epoch 19/40\n",
      "375/375 [==============================] - 3s 7ms/step - loss: 2.5191 - val_loss: 2.8287 - lr: 0.0010\n",
      "Epoch 20/40\n",
      "375/375 [==============================] - 3s 7ms/step - loss: 2.5350 - val_loss: 2.7623 - lr: 0.0010\n",
      "Epoch 21/40\n",
      "375/375 [==============================] - 3s 7ms/step - loss: 2.5025 - val_loss: 2.8156 - lr: 0.0010\n",
      "Epoch 22/40\n",
      "375/375 [==============================] - 3s 7ms/step - loss: 2.5059 - val_loss: 2.8434 - lr: 0.0010\n",
      "Epoch 23/40\n",
      "375/375 [==============================] - 3s 7ms/step - loss: 2.4757 - val_loss: 2.7593 - lr: 0.0010\n",
      "Epoch 24/40\n",
      "375/375 [==============================] - 3s 7ms/step - loss: 2.4620 - val_loss: 2.7214 - lr: 0.0010\n",
      "Epoch 25/40\n",
      "375/375 [==============================] - 3s 7ms/step - loss: 2.5216 - val_loss: 2.7883 - lr: 0.0010\n",
      "Epoch 26/40\n",
      "375/375 [==============================] - 3s 7ms/step - loss: 2.4698 - val_loss: 2.7132 - lr: 0.0010\n",
      "Epoch 27/40\n",
      "375/375 [==============================] - 3s 7ms/step - loss: 2.4708 - val_loss: 2.8692 - lr: 0.0010\n",
      "Epoch 28/40\n",
      "375/375 [==============================] - 3s 7ms/step - loss: 2.4569 - val_loss: 2.7769 - lr: 0.0010\n",
      "Epoch 29/40\n",
      "375/375 [==============================] - 2s 7ms/step - loss: 2.4546 - val_loss: 2.7902 - lr: 0.0010\n",
      "Epoch 30/40\n",
      "375/375 [==============================] - 3s 7ms/step - loss: 2.4448 - val_loss: 2.7347 - lr: 0.0010\n",
      "Epoch 31/40\n",
      "375/375 [==============================] - 2s 7ms/step - loss: 2.4478 - val_loss: 2.7398 - lr: 0.0010\n",
      "Epoch 32/40\n",
      "375/375 [==============================] - 3s 7ms/step - loss: 2.4316 - val_loss: 2.7931 - lr: 0.0010\n",
      "Epoch 33/40\n",
      "375/375 [==============================] - 3s 7ms/step - loss: 2.4183 - val_loss: 2.9075 - lr: 0.0010\n",
      "Epoch 34/40\n",
      "375/375 [==============================] - 3s 7ms/step - loss: 2.4349 - val_loss: 2.8622 - lr: 0.0010\n",
      "Epoch 35/40\n",
      "375/375 [==============================] - 3s 7ms/step - loss: 2.4102 - val_loss: 2.7232 - lr: 0.0010\n",
      "Epoch 36/40\n",
      "375/375 [==============================] - 3s 7ms/step - loss: 2.4045 - val_loss: 2.7235 - lr: 0.0010\n",
      "Epoch 37/40\n",
      "375/375 [==============================] - 3s 7ms/step - loss: 2.4104 - val_loss: 2.6939 - lr: 0.0010\n",
      "Epoch 38/40\n",
      "375/375 [==============================] - 3s 7ms/step - loss: 2.4007 - val_loss: 2.7530 - lr: 0.0010\n",
      "Epoch 39/40\n",
      "375/375 [==============================] - 3s 7ms/step - loss: 2.3775 - val_loss: 2.7651 - lr: 0.0010\n",
      "Epoch 40/40\n",
      "375/375 [==============================] - 3s 7ms/step - loss: 2.3958 - val_loss: 2.7571 - lr: 0.0010\n"
     ]
    }
   ],
   "source": [
    "history = model.fit(x=trainX, y=trainY_flat, batch_size=64, epochs=40,validation_data=(valX,valY_flat),\n",
    "                    callbacks=[callback,callback_es])"
   ]
  },
  {
   "cell_type": "code",
   "execution_count": 31,
   "id": "e2b6f848",
   "metadata": {},
   "outputs": [
    {
     "data": {
      "text/plain": [
       "<matplotlib.legend.Legend at 0x30c9cd970>"
      ]
     },
     "execution_count": 31,
     "metadata": {},
     "output_type": "execute_result"
    },
    {
     "data": {
      "image/png": "[encoded data removed]",
      "text/plain": [
       "<Figure size 432x288 with 1 Axes>"
      ]
     },
     "metadata": {
      "needs_background": "light"
     },
     "output_type": "display_data"
    }
   ],
   "source": [
    "plt.figure()\n",
    "plt.title(\"MAE Loss\")\n",
    "plt.plot(history.history['loss'],label='train')\n",
    "plt.plot(history.history['val_loss'],label='val')\n",
    "plt.legend()"
   ]
  },
  {
   "cell_type": "code",
   "execution_count": null,
   "id": "6d49582f",
   "metadata": {},
   "outputs": [],
   "source": []
  }
 ],
 "metadata": {
  "kernelspec": {
   "display_name": "Python 3 (ipykernel)",
   "language": "python",
   "name": "python3"
  },
  "language_info": {
   "codemirror_mode": {
    "name": "ipython",
    "version": 3
   },
   "file_extension": ".py",
   "mimetype": "text/x-python",
   "name": "python",
   "nbconvert_exporter": "python",
   "pygments_lexer": "ipython3",
   "version": "3.9.10"
  }
 },
 "nbformat": 4,
 "nbformat_minor": 5
}
