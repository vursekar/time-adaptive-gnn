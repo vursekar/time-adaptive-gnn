{
 "cells": [
  {
   "cell_type": "code",
   "execution_count": 1,
   "id": "95dc4aed",
   "metadata": {},
   "outputs": [],
   "source": [
    "import os\n",
    "import pickle as pk\n",
    "\n",
    "import numpy as np\n",
    "\n",
    "from common import *\n",
    "from util import *"
   ]
  },
  {
   "cell_type": "code",
   "execution_count": 2,
   "id": "051eb713",
   "metadata": {},
   "outputs": [
    {
     "name": "stdout",
     "output_type": "stream",
     "text": [
      "Now loading split: train\n",
      "Now loading split: val\n",
      "Now loading split: test\n"
     ]
    }
   ],
   "source": [
    "# Load train, val, test data\n",
    "directory = DATASET_DIRECTORY\n",
    "data = {}\n",
    "\n",
    "for split in ['train','val','test']:\n",
    "    print(\"Now loading split: {}\".format(split))\n",
    "    data_split = np.load(os.path.join(directory, split + \".npz\"))\n",
    "    data['x_'+split] = data_split['x']\n",
    "    data['y_'+split] = data_split['y']"
   ]
  },
  {
   "cell_type": "code",
   "execution_count": 3,
   "id": "c08fe8b5",
   "metadata": {},
   "outputs": [],
   "source": [
    "# Obtain Z-scores for each input dimension\n",
    "scaler = ZScoreNormalizer()\n",
    "scaler.adapt(data['x_train'])\n",
    "\n",
    "# Scale all data splits by training means and variances\n",
    "scaled_data = {}\n",
    "for key in data:\n",
    "    scaled_data[key] = scaler.transform(data[key])\n",
    "    \n",
    "# Input and output dims\n",
    "input_shape = tuple(list(data['x_train'].shape)[1:])\n",
    "output_shape = tuple(list(data['y_train'].shape)[1:])\n",
    "input_dims = np.product(input_shape)\n",
    "output_dims = np.product(output_shape)"
   ]
  },
  {
   "cell_type": "code",
   "execution_count": 4,
   "id": "2085a69e",
   "metadata": {},
   "outputs": [],
   "source": [
    "# Save scaler object\n",
    "pk.dump(scaler, open(PREPROCESSING_SCALER_FILEPATH, \"wb\"))\n",
    "\n",
    "# Saves all of the numpy arrays in scaled_data to the npz file, accessible upon loading using the same keys as in scaled_data\n",
    "np.savez(PREPROCESSED_DATASET_FILEPATH, **scaled_data)"
   ]
  },
  {
   "cell_type": "code",
   "execution_count": null,
   "id": "531e8d87",
   "metadata": {},
   "outputs": [],
   "source": []
  }
 ],
 "metadata": {
  "kernelspec": {
   "display_name": "Python 3 (ipykernel)",
   "language": "python",
   "name": "python3"
  },
  "language_info": {
   "codemirror_mode": {
    "name": "ipython",
    "version": 3
   },
   "file_extension": ".py",
   "mimetype": "text/x-python",
   "name": "python",
   "nbconvert_exporter": "python",
   "pygments_lexer": "ipython3",
   "version": "3.9.10"
  }
 },
 "nbformat": 4,
 "nbformat_minor": 5
}
